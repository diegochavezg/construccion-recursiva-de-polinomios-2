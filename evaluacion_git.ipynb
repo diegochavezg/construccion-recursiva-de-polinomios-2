{
  "nbformat": 4,
  "nbformat_minor": 0,
  "metadata": {
    "colab": {
      "name": "evaluacion-git.ipynb",
      "provenance": [],
      "authorship_tag": "ABX9TyPHcJCvK/QR7erb5G6zgtyL",
      "include_colab_link": true
    },
    "kernelspec": {
      "name": "python3",
      "display_name": "Python 3"
    },
    "language_info": {
      "name": "python"
    }
  },
  "cells": [
    {
      "cell_type": "markdown",
      "metadata": {
        "id": "view-in-github",
        "colab_type": "text"
      },
      "source": [
        "<a href=\"https://colab.research.google.com/github/diegochavezg/construccion-recursiva-de-polinomios-2/blob/main/evaluacion_git.ipynb\" target=\"_parent\"><img src=\"https://colab.research.google.com/assets/colab-badge.svg\" alt=\"Open In Colab\"/></a>"
      ]
    },
    {
      "cell_type": "code",
      "metadata": {
        "id": "U-SzWzfO83zy"
      },
      "source": [
        "import sympy as sp"
      ],
      "execution_count": null,
      "outputs": []
    },
    {
      "cell_type": "code",
      "metadata": {
        "id": "L77y-oDV9Dog"
      },
      "source": [
        "x = sp.Symbol('x')"
      ],
      "execution_count": 3,
      "outputs": []
    },
    {
      "cell_type": "code",
      "metadata": {
        "id": "ZZ_Lq3Iu_hXV"
      },
      "source": [
        "def polinomios_en_clase(n=2):\n",
        "  polinomios = [x-2,x**2+x]\n",
        "\n",
        "  for i in range (2, n+1):\n",
        "    thispoly = polinomios[i-1]*(x/2) - x*polinomios[i-2] * (x/4)\n",
        "    polinomios.append(thispoly.expand())\n",
        "\n",
        "  return polinomios\n",
        "\n"
      ],
      "execution_count": 11,
      "outputs": []
    },
    {
      "cell_type": "code",
      "metadata": {
        "id": "xYWT35YUCsOZ"
      },
      "source": [
        "poly = polinomios_en_clase(50)"
      ],
      "execution_count": 12,
      "outputs": []
    },
    {
      "cell_type": "code",
      "metadata": {
        "id": "ViWQ1m7qDn_S"
      },
      "source": [
        ""
      ],
      "execution_count": null,
      "outputs": []
    }
  ]
}