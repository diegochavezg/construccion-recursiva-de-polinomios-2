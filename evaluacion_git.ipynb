{
  "nbformat": 4,
  "nbformat_minor": 0,
  "metadata": {
    "colab": {
      "name": "evaluacion-git.ipynb",
      "provenance": [],
      "authorship_tag": "ABX9TyNVYsdoMPh3dZpRwhee5Y5Q",
      "include_colab_link": true
    },
    "kernelspec": {
      "name": "python3",
      "display_name": "Python 3"
    },
    "language_info": {
      "name": "python"
    }
  },
  "cells": [
    {
      "cell_type": "markdown",
      "metadata": {
        "id": "view-in-github",
        "colab_type": "text"
      },
      "source": [
        "<a href=\"https://colab.research.google.com/github/diegochavezg/construccion-recursiva-de-polinomios-2/blob/main/evaluacion_git.ipynb\" target=\"_parent\"><img src=\"https://colab.research.google.com/assets/colab-badge.svg\" alt=\"Open In Colab\"/></a>"
      ]
    },
    {
      "cell_type": "code",
      "metadata": {
        "id": "U-SzWzfO83zy"
      },
      "source": [
        "import sympy as sp"
      ],
      "execution_count": 22,
      "outputs": []
    },
    {
      "cell_type": "code",
      "metadata": {
        "id": "jimREQpPElX7"
      },
      "source": [
        "import numpy as np"
      ],
      "execution_count": 21,
      "outputs": []
    },
    {
      "cell_type": "code",
      "metadata": {
        "id": "8amgpvXWEnEo"
      },
      "source": [
        "import matplotlib.pyplot as plot"
      ],
      "execution_count": 23,
      "outputs": []
    },
    {
      "cell_type": "code",
      "metadata": {
        "id": "L77y-oDV9Dog"
      },
      "source": [
        "x = sp.Symbol('x')"
      ],
      "execution_count": 3,
      "outputs": []
    },
    {
      "cell_type": "code",
      "metadata": {
        "id": "ZZ_Lq3Iu_hXV"
      },
      "source": [
        "def polinomios_en_clase(n=2):\n",
        "  polinomios = [x-2,x**2+x]\n",
        "\n",
        "  for i in range (2, n+1):\n",
        "    thispoly = polinomios[i-1]*(x/2) - x*polinomios[i-2] * (x/4)\n",
        "    polinomios.append(thispoly.expand())\n",
        "\n",
        "  return polinomios\n",
        "\n"
      ],
      "execution_count": 40,
      "outputs": []
    },
    {
      "cell_type": "code",
      "metadata": {
        "id": "xYWT35YUCsOZ"
      },
      "source": [
        "poly = polinomios_en_clase(50)"
      ],
      "execution_count": 41,
      "outputs": []
    },
    {
      "cell_type": "code",
      "metadata": {
        "colab": {
          "base_uri": "https://localhost:8080/",
          "height": 54
        },
        "id": "ViWQ1m7qDn_S",
        "outputId": "b7c85b81-5e46-4ab7-a0bb-5d1eb712ecf1"
      },
      "source": [
        "poly[50]"
      ],
      "execution_count": 42,
      "outputs": [
        {
          "output_type": "execute_result",
          "data": {
            "text/latex": "$\\displaystyle \\frac{x^{51}}{1125899906842624} + \\frac{x^{50}}{281474976710656}$",
            "text/plain": [
              "x**51/1125899906842624 + x**50/281474976710656"
            ]
          },
          "metadata": {},
          "execution_count": 42
        }
      ]
    },
    {
      "cell_type": "code",
      "metadata": {
        "colab": {
          "base_uri": "https://localhost:8080/",
          "height": 265
        },
        "id": "lozg7n-GFIGv",
        "outputId": "025ca909-df38-4b48-cb63-77889c83c1f1"
      },
      "source": [
        "xvalues = np.linspace(0,100, num=50)\n",
        "for i in range (5):\n",
        "  lambda_va = sp.lambdify(x, poly[i], 'numpy') \n",
        "  yvalues = lambda_va = (xvalues)\n",
        "\n",
        "  plot.plot(xvalues,yvalues)"
      ],
      "execution_count": 24,
      "outputs": [
        {
          "output_type": "display_data",
          "data": {
            "image/png": "[encoded data removed]",
            "text/plain": [
              "<Figure size 432x288 with 1 Axes>"
            ]
          },
          "metadata": {
            "needs_background": "light"
          }
        }
      ]
    },
    {
      "cell_type": "code",
      "metadata": {
        "colab": {
          "base_uri": "https://localhost:8080/",
          "height": 37
        },
        "id": "sQgyRBlqPnKd",
        "outputId": "aa14805e-5fff-4bc6-8d69-45343f4d2d50"
      },
      "source": [
        "sp.diff(poly[0], x)"
      ],
      "execution_count": 52,
      "outputs": [
        {
          "output_type": "execute_result",
          "data": {
            "text/latex": "$\\displaystyle 1$",
            "text/plain": [
              "1"
            ]
          },
          "metadata": {},
          "execution_count": 52
        }
      ]
    },
    {
      "cell_type": "code",
      "metadata": {
        "colab": {
          "base_uri": "https://localhost:8080/",
          "height": 38
        },
        "id": "fN8Z7yW6QSq-",
        "outputId": "01f1911f-9ca2-40f5-b036-49f8b5efba02"
      },
      "source": [
        "sp.diff(poly[1], x)"
      ],
      "execution_count": 50,
      "outputs": [
        {
          "output_type": "execute_result",
          "data": {
            "text/latex": "$\\displaystyle 2 x + 1$",
            "text/plain": [
              "2*x + 1"
            ]
          },
          "metadata": {},
          "execution_count": 50
        }
      ]
    },
    {
      "cell_type": "code",
      "metadata": {
        "colab": {
          "base_uri": "https://localhost:8080/",
          "height": 54
        },
        "id": "YF6Vga9vQVab",
        "outputId": "e9d3b421-668f-4f14-ec26-3289def29f60"
      },
      "source": [
        "sp.diff(poly[2], x)"
      ],
      "execution_count": 53,
      "outputs": [
        {
          "output_type": "execute_result",
          "data": {
            "text/latex": "$\\displaystyle \\frac{3 x^{2}}{4} + 2 x$",
            "text/plain": [
              "3*x**2/4 + 2*x"
            ]
          },
          "metadata": {},
          "execution_count": 53
        }
      ]
    },
    {
      "cell_type": "code",
      "metadata": {
        "colab": {
          "base_uri": "https://localhost:8080/",
          "height": 54
        },
        "id": "GrJy9xkBQWKI",
        "outputId": "a5bedb67-f779-4de1-b0d0-6f63397aee46"
      },
      "source": [
        "sp.diff(poly[3], x)"
      ],
      "execution_count": 54,
      "outputs": [
        {
          "output_type": "execute_result",
          "data": {
            "text/latex": "$\\displaystyle - \\frac{x^{3}}{2} + \\frac{3 x^{2}}{4}$",
            "text/plain": [
              "-x**3/2 + 3*x**2/4"
            ]
          },
          "metadata": {},
          "execution_count": 54
        }
      ]
    },
    {
      "cell_type": "code",
      "metadata": {
        "colab": {
          "base_uri": "https://localhost:8080/",
          "height": 54
        },
        "id": "hW0qUdwCQX5u",
        "outputId": "033f96c6-c304-4501-a6eb-5717b91fc492"
      },
      "source": [
        "sp.diff(poly[4], x)"
      ],
      "execution_count": 55,
      "outputs": [
        {
          "output_type": "execute_result",
          "data": {
            "text/latex": "$\\displaystyle - \\frac{5 x^{4}}{8} - \\frac{x^{3}}{2}$",
            "text/plain": [
              "-5*x**4/8 - x**3/2"
            ]
          },
          "metadata": {},
          "execution_count": 55
        }
      ]
    }
  ]
}