{
  "nbformat": 4,
  "nbformat_minor": 0,
  "metadata": {
    "colab": {
      "name": "evaluacion-git.ipynb",
      "provenance": [],
      "authorship_tag": "ABX9TyPvkrmXL2obB8U4xFHa6zu4",
      "include_colab_link": true
    },
    "kernelspec": {
      "name": "python3",
      "display_name": "Python 3"
    },
    "language_info": {
      "name": "python"
    }
  },
  "cells": [
    {
      "cell_type": "markdown",
      "metadata": {
        "id": "view-in-github",
        "colab_type": "text"
      },
      "source": [
        "<a href=\"https://colab.research.google.com/github/diegochavezg/construccion-recursiva-de-polinomios-2/blob/main/evaluacion_git.ipynb\" target=\"_parent\"><img src=\"https://colab.research.google.com/assets/colab-badge.svg\" alt=\"Open In Colab\"/></a>"
      ]
    },
    {
      "cell_type": "code",
      "metadata": {
        "id": "U-SzWzfO83zy"
      },
      "source": [
        "import sympy as sp"
      ],
      "execution_count": null,
      "outputs": []
    },
    {
      "cell_type": "code",
      "metadata": {
        "id": "L77y-oDV9Dog"
      },
      "source": [
        "x = sp.Symbol('x')"
      ],
      "execution_count": 3,
      "outputs": []
    },
    {
      "cell_type": "code",
      "metadata": {
        "id": "ZZ_Lq3Iu_hXV"
      },
      "source": [
        "def polinomios_en_clase(n=2):\n",
        "  polinomios = [x-2,x**2+x]\n",
        "\n",
        "  for i in range (2, n+1):\n",
        "    thispoly = polinomios[i-1]*(x/2) - x*polinomios[i-2] * (x/4)\n",
        "    polinomios.append(thispoly.expand())\n",
        "\n",
        "  return polinomios\n",
        "\n"
      ],
      "execution_count": 11,
      "outputs": []
    },
    {
      "cell_type": "code",
      "metadata": {
        "id": "xYWT35YUCsOZ"
      },
      "source": [
        "poly = polinomios_en_clase(50)"
      ],
      "execution_count": 12,
      "outputs": []
    },
    {
      "cell_type": "code",
      "metadata": {
        "colab": {
          "base_uri": "https://localhost:8080/",
          "height": 54
        },
        "id": "ViWQ1m7qDn_S",
        "outputId": "cd338eb7-7a26-4828-8c92-571e1dc8d526"
      },
      "source": [
        "poly[50]"
      ],
      "execution_count": 16,
      "outputs": [
        {
          "output_type": "execute_result",
          "data": {
            "text/latex": "$\\displaystyle \\frac{x^{51}}{1125899906842624} + \\frac{x^{50}}{281474976710656}$",
            "text/plain": [
              "x**51/1125899906842624 + x**50/281474976710656"
            ]
          },
          "metadata": {},
          "execution_count": 16
        }
      ]
    }
  ]
}